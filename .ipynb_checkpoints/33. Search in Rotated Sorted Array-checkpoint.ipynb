{
 "cells": [
  {
   "cell_type": "markdown",
   "metadata": {},
   "source": [
    "Suppose an array sorted in ascending order is rotated at some pivot unknown to you beforehand.\n",
    "\n",
    "(i.e., 0 1 2 4 5 6 7 might become 4 5 6 7 0 1 2).\n",
    "\n",
    "You are given a target value to search. If found in the array return its index, otherwise return -1.\n",
    "\n",
    "You may assume no duplicate exists in the array.\n",
    "\n"
   ]
  },
  {
   "cell_type": "code",
   "execution_count": 39,
   "metadata": {},
   "outputs": [],
   "source": [
    "class Solution:\n",
    "    \n",
    "    def search2(self, nums, target, start, end):\n",
    "        if end < start:\n",
    "            return -1\n",
    "        mid = int(start + (end - start) / 2)\n",
    "        print(mid)\n",
    "        if nums[mid] == target:\n",
    "            return mid\n",
    "        if nums[start] < nums[end]:\n",
    "            if nums[mid] > target:\n",
    "                return self.search2(nums, target, start, mid - 1)\n",
    "            else:\n",
    "                return self.search2(nums, target, mid + 1, end)\n",
    "            return -1\n",
    "        else:\n",
    "            return max(self.search2(nums, target, start, mid - 1), self.search2(nums, target, mid + 1, end))\n",
    "        \n",
    "    def search(self, nums, target):\n",
    "        return self.search2(nums, target, 0, len(nums) - 1)\n"
   ]
  },
  {
   "cell_type": "code",
   "execution_count": null,
   "metadata": {},
   "outputs": [],
   "source": [
    "S = Solution()\n",
    "S.search([5,6,7,1,2,3,4], 3)"
   ]
  }
 ],
 "metadata": {
  "kernelspec": {
   "display_name": "Python 3",
   "language": "python",
   "name": "python3"
  },
  "language_info": {
   "codemirror_mode": {
    "name": "ipython",
    "version": 3
   },
   "file_extension": ".py",
   "mimetype": "text/x-python",
   "name": "python",
   "nbconvert_exporter": "python",
   "pygments_lexer": "ipython3",
   "version": "3.6.2"
  }
 },
 "nbformat": 4,
 "nbformat_minor": 2
}
