{
 "cells": [
  {
   "cell_type": "markdown",
   "metadata": {},
   "source": [
    "# Substring Problem Template"
   ]
  },
  {
   "cell_type": "markdown",
   "metadata": {},
   "source": [
    "For most substring problem, we are given a string and need to find a substring of it which satisfy some restrictions. A general way is to use a hashmap assisted with two pointers. "
   ]
  },
  {
   "cell_type": "code",
   "execution_count": null,
   "metadata": {
    "collapsed": true
   },
   "outputs": [],
   "source": [
    "int findSubstring(string s){\n",
    "    vector<int> map(128,0);\n",
    "    int counter; // check whether the substring is valid\n",
    "    int begin=0, end=0; //two pointers, one point to tail and one  head\n",
    "    int d; //the length of substring\n",
    "\n",
    "    for() { /* initialize the hash map here */ }\n",
    "\n",
    "    while(end<s.size()){\n",
    "\n",
    "        if(map[s[end++]]-- ?){  /* modify counter here */ }\n",
    "\n",
    "        while(/* counter condition */){ \n",
    "\n",
    "             /* update d here if finding minimum*/\n",
    "\n",
    "            //increase begin to make it invalid/valid again\n",
    "\n",
    "            if(map[s[begin++]]++ ?){ /*modify counter here*/ }\n",
    "        }  \n",
    "\n",
    "        /* update d here if finding maximum*/\n",
    "    }\n",
    "    return d;\n",
    "}"
   ]
  },
  {
   "cell_type": "markdown",
   "metadata": {},
   "source": [
    "## Minimum Window Substring"
   ]
  },
  {
   "cell_type": "markdown",
   "metadata": {},
   "source": [
    "Given a string S and a string T, find the minimum window in S which will contain all the characters in T in complexity O(n).\n",
    "\n",
    "For example,\n",
    "\n",
    "S = \"ADOBECODEBANC\"\n",
    "\n",
    "T = \"ABC\"\n",
    "\n",
    "Minimum window is \"BANC\".\n",
    "\n",
    "Note:\n",
    "\n",
    "If there is no such window in S that covers all characters in T, return the empty string \"\".\n",
    "\n",
    "If there are multiple such windows, you are guaranteed that there will always be only one unique minimum window in S."
   ]
  },
  {
   "cell_type": "code",
   "execution_count": null,
   "metadata": {
    "collapsed": true
   },
   "outputs": [],
   "source": [
    "int findSubstring(string s){\n",
    "    vector<int> map(128,0);\n",
    "    int counter; // check whether the substring is valid\n",
    "    int begin=0, end=0; //two pointers, one point to tail and one  head\n",
    "    int d; //the length of substring\n",
    "\n",
    "    for() { /* initialize the hash map here */ }\n",
    "\n",
    "    while(end<s.size()){\n",
    "\n",
    "        if(map[s[end++]]-- ?){  /* modify counter here */ }\n",
    "\n",
    "        while(/* counter condition */){ \n",
    "\n",
    "             /* update d here if finding minimum*/\n",
    "\n",
    "            //increase begin to make it invalid/valid again\n",
    "\n",
    "            if(map[s[begin++]]++ ?){ /*modify counter here*/ }\n",
    "        }  \n",
    "\n",
    "        /* update d here if finding maximum*/\n",
    "    }\n",
    "    return d;\n",
    "}"
   ]
  },
  {
   "cell_type": "markdown",
   "metadata": {},
   "source": [
    "## Longest Substring with At Most Two Distinct Characters"
   ]
  },
  {
   "cell_type": "markdown",
   "metadata": {},
   "source": [
    "Given a string, find the length of the longest substring T that contains at most 2 distinct characters.\n",
    "\n",
    "For example, Given s = “eceba”,\n",
    "\n",
    "T is \"ece\" which its length is 3."
   ]
  },
  {
   "cell_type": "code",
   "execution_count": null,
   "metadata": {
    "collapsed": true
   },
   "outputs": [],
   "source": [
    "int lengthOfLongestSubstring(string s) {\n",
    "    vector<int> map(128,0);\n",
    "    int counter=0, begin=0, end=0, d=0; \n",
    "    while(end<s.size()){\n",
    "        if(map[s[end++]]++>0) counter++; \n",
    "        while(counter>0) if(map[s[begin++]]-->1) counter--;\n",
    "        d=max(d, end-begin); //while valid, update d\n",
    "    }\n",
    "    return d;\n",
    "}"
   ]
  }
 ],
 "metadata": {
  "kernelspec": {
   "display_name": "SciJava",
   "language": "groovy",
   "name": "scijava"
  },
  "language_info": {
   "codemirror_mode": "groovy",
   "file_extension": "",
   "mimetype": "",
   "name": "scijava",
   "nbconverter_exporter": "",
   "pygments_lexer": "groovy",
   "version": "1.0"
  }
 },
 "nbformat": 4,
 "nbformat_minor": 2
}
