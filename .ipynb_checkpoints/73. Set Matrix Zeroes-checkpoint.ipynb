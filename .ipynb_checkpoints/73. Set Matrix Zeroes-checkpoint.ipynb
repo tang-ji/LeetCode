{
 "cells": [
  {
   "cell_type": "markdown",
   "metadata": {},
   "source": [
    "Given a m x n matrix, if an element is 0, set its entire row and column to 0. Do it in place."
   ]
  },
  {
   "cell_type": "code",
   "execution_count": 1,
   "metadata": {},
   "outputs": [
    {
     "name": "stdout",
     "output_type": "stream",
     "text": [
      "1 2 3 \n",
      "1 0 1 \n",
      "\n",
      "1 0 3 \n",
      "0 0 0 \n"
     ]
    },
    {
     "data": {
      "text/plain": [
       "No Outputs"
      ]
     },
     "execution_count": 1,
     "metadata": {},
     "output_type": "execute_result"
    }
   ],
   "source": [
    "class Solution {\n",
    "    public static void setZeroes(int[][] matrix) {\n",
    "        if(matrix == null) return;\n",
    "        \n",
    "        boolean col = false;\n",
    "        for(int i = 0; i < matrix.length; i++) {\n",
    "            if(matrix[i][0] == 0) col = true;\n",
    "            for(int j = 1; j < matrix[0].length; j++) {\n",
    "                if(matrix[i][j] == 0) {\n",
    "                    matrix[0][j] = 0;\n",
    "                    matrix[i][0] = 0;\n",
    "                    continue;\n",
    "                }\n",
    "            }\n",
    "        }\n",
    "        \n",
    "        for(int i = matrix.length - 1; i >= 0; i--) {\n",
    "            for(int j = 1; j < matrix[0].length; j++) {\n",
    "                if(matrix[0][j] == 0 || matrix[i][0] == 0) matrix[i][j] = 0;\n",
    "            }\n",
    "            if(col == true) matrix[i][0] = 0;\n",
    "        }\n",
    "    }\n",
    "    \n",
    "    public static void main(String[] args) {\n",
    "        int[][] matrix = new int[2][3];\n",
    "        matrix[0][0] = 1;\n",
    "        matrix[0][1] = 2;\n",
    "        matrix[0][2] = 3;\n",
    "        matrix[1][0] = 1;\n",
    "        matrix[1][1] = 0;\n",
    "        matrix[1][2] = 1;\n",
    "        for(int i = 0; i < matrix.length; i++) {\n",
    "            for(int j = 0; j < matrix[0].length; j++) {\n",
    "                System.out.print(matrix[i][j]);\n",
    "                System.out.print(\" \");\n",
    "            }\n",
    "            System.out.print('\\n');\n",
    "        }\n",
    "        System.out.print('\\n');\n",
    "        setZeroes(matrix);\n",
    "        for(int i = 0; i < matrix.length; i++) {\n",
    "            for(int j = 0; j < matrix[0].length; j++) {\n",
    "                System.out.print(matrix[i][j]);\n",
    "                System.out.print(\" \");\n",
    "            }\n",
    "            System.out.print('\\n');\n",
    "        }\n",
    "        \n",
    "    }\n",
    "}\n"
   ]
  }
 ],
 "metadata": {
  "kernelspec": {
   "display_name": "SciJava",
   "language": "groovy",
   "name": "scijava"
  },
  "language_info": {
   "codemirror_mode": "groovy",
   "file_extension": "",
   "mimetype": "",
   "name": "scijava",
   "nbconverter_exporter": "",
   "pygments_lexer": "groovy",
   "version": "1.0"
  }
 },
 "nbformat": 4,
 "nbformat_minor": 2
}
