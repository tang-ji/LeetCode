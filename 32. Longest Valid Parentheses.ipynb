{
 "cells": [
  {
   "cell_type": "markdown",
   "metadata": {},
   "source": [
    "Given a string containing just the characters '(' and ')', find the length of the longest valid (well-formed) parentheses substring.\n",
    "\n",
    "For \"(()\", the longest valid parentheses substring is \"()\", which has length = 2.\n",
    "\n",
    "Another example is \")()())\", where the longest valid parentheses substring is \"()()\", which has length = 4."
   ]
  },
  {
   "cell_type": "code",
   "execution_count": 72,
   "metadata": {
    "collapsed": true
   },
   "outputs": [],
   "source": [
    "class Solution:\n",
    "    def longestValidParentheses(self, s):\n",
    "        left, dp, maxlength = -1, [], 0\n",
    "        for i in range(len(s)):\n",
    "            if s[i] == '(':\n",
    "                dp.append(i)\n",
    "            else:\n",
    "                if dp:\n",
    "                    dp.pop()\n",
    "                    if dp:\n",
    "                        maxlength = max(maxlength, i - dp[-1])\n",
    "                    else:\n",
    "                        maxlength = max(maxlength, i - left)\n",
    "                else:\n",
    "                    left = i\n",
    "        return maxlength\n"
   ]
  },
  {
   "cell_type": "code",
   "execution_count": 73,
   "metadata": {},
   "outputs": [
    {
     "data": {
      "text/plain": [
       "2"
      ]
     },
     "execution_count": 73,
     "metadata": {},
     "output_type": "execute_result"
    }
   ],
   "source": [
    "S = Solution()\n",
    "S.longestValidParentheses(\"(()\")"
   ]
  }
 ],
 "metadata": {
  "kernelspec": {
   "display_name": "Python 3",
   "language": "python",
   "name": "python3"
  },
  "language_info": {
   "codemirror_mode": {
    "name": "ipython",
    "version": 3
   },
   "file_extension": ".py",
   "mimetype": "text/x-python",
   "name": "python",
   "nbconvert_exporter": "python",
   "pygments_lexer": "ipython3",
   "version": "3.6.2"
  }
 },
 "nbformat": 4,
 "nbformat_minor": 2
}
